{
 "cells": [
  {
   "cell_type": "code",
   "execution_count": 2,
   "metadata": {
    "executionInfo": {
     "elapsed": 23536,
     "status": "ok",
     "timestamp": 1607791361656,
     "user": {
      "displayName": "Sadman Sakib",
      "photoUrl": "",
      "userId": "05491288056867041174"
     },
     "user_tz": 300
    },
    "id": "71e69Pta2wyp"
   },
   "outputs": [],
   "source": [
    "import pandas as pd\n",
    "import numpy as np\n",
    "import matplotlib.pyplot as plt\n",
    "import seaborn as srn\n",
    "# --------- for machine learning models ---------\n",
    "from sklearn.linear_model import*\n",
    "from sklearn.preprocessing import*\n",
    "from sklearn.pipeline import make_pipeline\n",
    "from sklearn.ensemble import*\n",
    "from sklearn.neighbors import*\n",
    "from sklearn import svm\n",
    "from sklearn.naive_bayes import*\n",
    "from sklearn.neural_network import MLPClassifier\n",
    "from sklearn.model_selection import train_test_split\n",
    "from sklearn.metrics import*"
   ]
  },
  {
   "cell_type": "markdown",
   "metadata": {
    "id": "LKE3GihT6y_k"
   },
   "source": [
    "# **Load datasets (Train & Test)**"
   ]
  },
  {
   "cell_type": "code",
   "execution_count": 3,
   "metadata": {
    "executionInfo": {
     "elapsed": 29518,
     "status": "ok",
     "timestamp": 1607791367642,
     "user": {
      "displayName": "Sadman Sakib",
      "photoUrl": "",
      "userId": "05491288056867041174"
     },
     "user_tz": 300
    },
    "id": "AMuNzhX73Pij"
   },
   "outputs": [],
   "source": [
    "dataTrainDF =  pd.read_csv(\"data/train.csv\")\n",
    "dataTestDF =  pd.read_csv(\"data/test.csv\")\n",
    "\n",
    "xTrain, yTrain = dataTrainDF[dataTrainDF.columns[1:]].values, dataTrainDF[\"label\"].values\n",
    "xTest = dataTestDF.values"
   ]
  },
  {
   "cell_type": "markdown",
   "metadata": {
    "id": "_e2vlEgK8ssF"
   },
   "source": [
    "# **Constructing the model!**"
   ]
  },
  {
   "cell_type": "code",
   "execution_count": 4,
   "metadata": {
    "colab": {
     "base_uri": "https://localhost:8080/"
    },
    "executionInfo": {
     "elapsed": 83322,
     "status": "ok",
     "timestamp": 1607791421450,
     "user": {
      "displayName": "Sadman Sakib",
      "photoUrl": "",
      "userId": "05491288056867041174"
     },
     "user_tz": 300
    },
    "id": "_r2Yd2N18FkM",
    "outputId": "bf4828a2-43b0-4c84-da6e-9913076d7425"
   },
   "outputs": [
    {
     "name": "stdout",
     "output_type": "stream",
     "text": [
      "Accuracy for the train data 1.0\n"
     ]
    }
   ],
   "source": [
    "model = RandomForestClassifier(random_state=230, n_estimators=150) #0.96671\n",
    "model.fit(xTrain, yTrain)\n",
    "# training accuracy\n",
    "print('Accuracy for the train data', model.score(xTrain, yTrain))"
   ]
  },
  {
   "cell_type": "markdown",
   "metadata": {
    "id": "9zuHTpHk8054"
   },
   "source": [
    "# **Testing the model predictions!**"
   ]
  },
  {
   "cell_type": "code",
   "execution_count": 5,
   "metadata": {
    "executionInfo": {
     "elapsed": 84755,
     "status": "ok",
     "timestamp": 1607791422887,
     "user": {
      "displayName": "Sadman Sakib",
      "photoUrl": "",
      "userId": "05491288056867041174"
     },
     "user_tz": 300
    },
    "id": "8XH6i-AW8365"
   },
   "outputs": [],
   "source": [
    "yPred = model.predict(xTest)"
   ]
  },
  {
   "cell_type": "markdown",
   "metadata": {
    "id": "03ZOSqNW9FWO"
   },
   "source": [
    "# **Saving the predictions!**"
   ]
  },
  {
   "cell_type": "code",
   "execution_count": 6,
   "metadata": {
    "executionInfo": {
     "elapsed": 85047,
     "status": "ok",
     "timestamp": 1607791423182,
     "user": {
      "displayName": "Sadman Sakib",
      "photoUrl": "",
      "userId": "05491288056867041174"
     },
     "user_tz": 300
    },
    "id": "R0wikniA9EZ8"
   },
   "outputs": [],
   "source": [
    "predictionDF = pd.DataFrame({'ImageId':np.arange(1,len(yPred)+1,1), 'Label': yPred})\n",
    "predictionDF.head()\n",
    "predictionDF.to_csv(\"result/submissionRF.csv\",index=False)"
   ]
  }
 ],
 "metadata": {
  "colab": {
   "authorship_tag": "ABX9TyOTWkhJLxx0CgrigCve2Qt8",
   "collapsed_sections": [],
   "name": "digitRecoML_kaggle.ipynb",
   "provenance": []
  },
  "kernelspec": {
   "display_name": "Python 3",
   "language": "python",
   "name": "python3"
  },
  "language_info": {
   "codemirror_mode": {
    "name": "ipython",
    "version": 3
   },
   "file_extension": ".py",
   "mimetype": "text/x-python",
   "name": "python",
   "nbconvert_exporter": "python",
   "pygments_lexer": "ipython3",
   "version": "3.7.4"
  }
 },
 "nbformat": 4,
 "nbformat_minor": 1
}
