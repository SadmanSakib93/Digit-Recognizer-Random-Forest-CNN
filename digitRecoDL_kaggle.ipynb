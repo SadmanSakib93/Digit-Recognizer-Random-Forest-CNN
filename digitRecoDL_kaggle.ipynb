{
 "cells": [
  {
   "cell_type": "code",
   "execution_count": 2,
   "metadata": {
    "executionInfo": {
     "elapsed": 2221,
     "status": "ok",
     "timestamp": 1607802633428,
     "user": {
      "displayName": "Sadman Sakib",
      "photoUrl": "",
      "userId": "05491288056867041174"
     },
     "user_tz": 300
    },
    "id": "71e69Pta2wyp"
   },
   "outputs": [],
   "source": [
    "import pandas as pd\n",
    "import numpy as np\n",
    "# --------- for visualization ---------\n",
    "import matplotlib.pyplot as plt\n",
    "import seaborn as srn\n",
    "\n",
    "from sklearn.model_selection import train_test_split\n",
    "from sklearn.metrics import*\n",
    "from keras.utils import to_categorical\n",
    "\n",
    "# --------- for DL model ---------\n",
    "import keras\n",
    "from keras.models import Sequential, load_model\n",
    "from keras.layers import Dense, Dropout, Flatten\n",
    "from keras.layers import Conv2D, MaxPooling2D, BatchNormalization"
   ]
  },
  {
   "cell_type": "markdown",
   "metadata": {
    "id": "LKE3GihT6y_k"
   },
   "source": [
    "# **Load datasets (Train & Test)**"
   ]
  },
  {
   "cell_type": "code",
   "execution_count": 3,
   "metadata": {
    "executionInfo": {
     "elapsed": 5871,
     "status": "ok",
     "timestamp": 1607802637082,
     "user": {
      "displayName": "Sadman Sakib",
      "photoUrl": "",
      "userId": "05491288056867041174"
     },
     "user_tz": 300
    },
    "id": "AMuNzhX73Pij"
   },
   "outputs": [],
   "source": [
    "dataTrainDF =  pd.read_csv(\"data/train.csv\")\n",
    "dataTestDF =  pd.read_csv(\"data/test.csv\")\n",
    "\n",
    "xTrain, yTrain = dataTrainDF[dataTrainDF.columns[1:]].values, dataTrainDF[\"label\"].values\n",
    "xTest = dataTestDF.values"
   ]
  },
  {
   "cell_type": "markdown",
   "metadata": {
    "id": "_e2vlEgK8ssF"
   },
   "source": [
    "# **Constructing the model!**"
   ]
  },
  {
   "cell_type": "code",
   "execution_count": 4,
   "metadata": {
    "executionInfo": {
     "elapsed": 6662,
     "status": "ok",
     "timestamp": 1607802637876,
     "user": {
      "displayName": "Sadman Sakib",
      "photoUrl": "",
      "userId": "05491288056867041174"
     },
     "user_tz": 300
    },
    "id": "_r2Yd2N18FkM"
   },
   "outputs": [],
   "source": [
    "activationFunction='relu'\n",
    "batch_size = 32\n",
    "epoch = 100\n",
    "numOfChannels = 1\n",
    "img_rows, img_cols = 28, 28\n",
    "numClasses = 10\n",
    "def getModel():\n",
    "    model = Sequential()\n",
    "    \n",
    "    model.add(Conv2D(100, kernel_size = (3, 3), activation=activationFunction, input_shape=(img_rows, img_cols, numOfChannels)))\n",
    "    model.add(Dropout(0.1))\n",
    "    model.add(MaxPooling2D(pool_size=(2,2)))\n",
    "    \n",
    "    model.add(Conv2D(50, kernel_size=(3,3), activation=activationFunction))\n",
    "    model.add(Dropout(0.1))\n",
    "    model.add(MaxPooling2D(pool_size=(2,2)))\n",
    "    \n",
    "    model.add(Conv2D(25, kernel_size=(3,3), activation=activationFunction))\n",
    "    model.add(Dropout(0.1))\n",
    "    model.add(MaxPooling2D(pool_size=(2,2)))\n",
    "    \n",
    "    model.add(Flatten())\n",
    "    model.add(Dense(100, activation=activationFunction))\n",
    "    model.add(Dropout(0.1))\n",
    "    model.add(Dense(50, activation=activationFunction))\n",
    "    model.add(Dense(numClasses, activation = 'softmax'))\n",
    "    model.compile(optimizer='RMSprop', loss='categorical_crossentropy', metrics=['accuracy'])\n",
    "    \n",
    "    return model\n",
    "\n",
    "model = getModel()"
   ]
  },
  {
   "cell_type": "markdown",
   "metadata": {
    "id": "9zuHTpHk8054"
   },
   "source": [
    "# **Pre-processing dataset**"
   ]
  },
  {
   "cell_type": "code",
   "execution_count": 5,
   "metadata": {
    "executionInfo": {
     "elapsed": 6661,
     "status": "ok",
     "timestamp": 1607802637877,
     "user": {
      "displayName": "Sadman Sakib",
      "photoUrl": "",
      "userId": "05491288056867041174"
     },
     "user_tz": 300
    },
    "id": "8XH6i-AW8365"
   },
   "outputs": [],
   "source": [
    "xTrain = np.reshape(xTrain,(-1, img_rows, img_cols, 1))\n",
    "xTest = np.reshape(xTest,(-1, img_rows, img_cols, 1))\n",
    "\n",
    "xTrain = xTrain.astype('float32')\n",
    "xTest = xTest.astype('float32')\n",
    "xTrain = xTrain / 255.\n",
    "xTest = xTest / 255.\n",
    "\n",
    "#One hot encoding\n",
    "yTrain0HE = np.array(to_categorical(yTrain))"
   ]
  },
  {
   "cell_type": "code",
   "execution_count": 6,
   "metadata": {
    "colab": {
     "base_uri": "https://localhost:8080/"
    },
    "executionInfo": {
     "elapsed": 6852,
     "status": "ok",
     "timestamp": 1607802638072,
     "user": {
      "displayName": "Sadman Sakib",
      "photoUrl": "",
      "userId": "05491288056867041174"
     },
     "user_tz": 300
    },
    "id": "0qN1BtjdFlt2",
    "outputId": "b96b5793-422a-40e6-ed8a-79957bcdac4d"
   },
   "outputs": [
    {
     "name": "stdout",
     "output_type": "stream",
     "text": [
      "xTrain (42000, 28, 28, 1) yTrain0HE (42000, 10)\n",
      "xTest (28000, 28, 28, 1)\n"
     ]
    }
   ],
   "source": [
    "print(\"xTrain\", xTrain.shape, \"yTrain0HE\", yTrain0HE.shape)\n",
    "print(\"xTest\", xTest.shape)"
   ]
  },
  {
   "cell_type": "markdown",
   "metadata": {
    "id": "BP9PF4ImT4Q2"
   },
   "source": [
    "# **Learning rate scheduler**"
   ]
  },
  {
   "cell_type": "code",
   "execution_count": 7,
   "metadata": {
    "executionInfo": {
     "elapsed": 6849,
     "status": "ok",
     "timestamp": 1607802638073,
     "user": {
      "displayName": "Sadman Sakib",
      "photoUrl": "",
      "userId": "05491288056867041174"
     },
     "user_tz": 300
    },
    "id": "3jCsGd68T-Dz"
   },
   "outputs": [],
   "source": [
    "def adapt_learning_rate(epoch):\n",
    "    return 0.001 / (epoch+1)\n",
    "lrScheduler = keras.callbacks.LearningRateScheduler(adapt_learning_rate)"
   ]
  },
  {
   "cell_type": "markdown",
   "metadata": {
    "id": "CIyhZ68of3OR"
   },
   "source": [
    "# **Train the model**"
   ]
  },
  {
   "cell_type": "code",
   "execution_count": 8,
   "metadata": {
    "colab": {
     "base_uri": "https://localhost:8080/"
    },
    "executionInfo": {
     "elapsed": 622343,
     "status": "ok",
     "timestamp": 1607803253572,
     "user": {
      "displayName": "Sadman Sakib",
      "photoUrl": "",
      "userId": "05491288056867041174"
     },
     "user_tz": 300
    },
    "id": "dnbp9BYW_Zow",
    "outputId": "2635a848-981c-4520-ba5f-634802b71da7"
   },
   "outputs": [
    {
     "name": "stdout",
     "output_type": "stream",
     "text": [
      "Epoch 1/100\n",
      "1313/1313 [==============================] - 6s 5ms/step - loss: 0.3635 - accuracy: 0.8830\n",
      "Epoch 2/100\n",
      "1313/1313 [==============================] - 6s 5ms/step - loss: 0.1039 - accuracy: 0.9688\n",
      "Epoch 3/100\n",
      "1313/1313 [==============================] - 6s 5ms/step - loss: 0.0768 - accuracy: 0.9765\n",
      "Epoch 4/100\n",
      "1313/1313 [==============================] - 6s 5ms/step - loss: 0.0646 - accuracy: 0.9802\n",
      "Epoch 5/100\n",
      "1313/1313 [==============================] - 6s 5ms/step - loss: 0.0565 - accuracy: 0.9825\n",
      "Epoch 6/100\n",
      "1313/1313 [==============================] - 6s 5ms/step - loss: 0.0518 - accuracy: 0.9835\n",
      "Epoch 7/100\n",
      "1313/1313 [==============================] - 6s 5ms/step - loss: 0.0497 - accuracy: 0.9851\n",
      "Epoch 8/100\n",
      "1313/1313 [==============================] - 6s 5ms/step - loss: 0.0450 - accuracy: 0.9863\n",
      "Epoch 9/100\n",
      "1313/1313 [==============================] - 6s 5ms/step - loss: 0.0421 - accuracy: 0.9870\n",
      "Epoch 10/100\n",
      "1313/1313 [==============================] - 6s 5ms/step - loss: 0.0408 - accuracy: 0.9875\n",
      "Epoch 11/100\n",
      "1313/1313 [==============================] - 6s 5ms/step - loss: 0.0390 - accuracy: 0.9873\n",
      "Epoch 12/100\n",
      "1313/1313 [==============================] - 7s 5ms/step - loss: 0.0367 - accuracy: 0.9883\n",
      "Epoch 13/100\n",
      "1313/1313 [==============================] - 6s 5ms/step - loss: 0.0363 - accuracy: 0.9892\n",
      "Epoch 14/100\n",
      "1313/1313 [==============================] - 6s 5ms/step - loss: 0.0365 - accuracy: 0.9889\n",
      "Epoch 15/100\n",
      "1313/1313 [==============================] - 6s 5ms/step - loss: 0.0357 - accuracy: 0.9885\n",
      "Epoch 16/100\n",
      "1313/1313 [==============================] - 6s 5ms/step - loss: 0.0339 - accuracy: 0.9898\n",
      "Epoch 17/100\n",
      "1313/1313 [==============================] - 6s 5ms/step - loss: 0.0325 - accuracy: 0.9904\n",
      "Epoch 18/100\n",
      "1313/1313 [==============================] - 6s 5ms/step - loss: 0.0336 - accuracy: 0.9896\n",
      "Epoch 19/100\n",
      "1313/1313 [==============================] - 6s 5ms/step - loss: 0.0319 - accuracy: 0.9905\n",
      "Epoch 20/100\n",
      "1313/1313 [==============================] - 6s 5ms/step - loss: 0.0314 - accuracy: 0.9900\n",
      "Epoch 21/100\n",
      "1313/1313 [==============================] - 6s 5ms/step - loss: 0.0325 - accuracy: 0.9904\n",
      "Epoch 22/100\n",
      "1313/1313 [==============================] - 6s 5ms/step - loss: 0.0318 - accuracy: 0.9901\n",
      "Epoch 23/100\n",
      "1313/1313 [==============================] - 6s 5ms/step - loss: 0.0314 - accuracy: 0.9903\n",
      "Epoch 24/100\n",
      "1313/1313 [==============================] - 6s 5ms/step - loss: 0.0302 - accuracy: 0.9906\n",
      "Epoch 25/100\n",
      "1313/1313 [==============================] - 6s 5ms/step - loss: 0.0296 - accuracy: 0.9912\n",
      "Epoch 26/100\n",
      "1313/1313 [==============================] - 6s 5ms/step - loss: 0.0303 - accuracy: 0.9904\n",
      "Epoch 27/100\n",
      "1313/1313 [==============================] - 6s 5ms/step - loss: 0.0284 - accuracy: 0.9910\n",
      "Epoch 28/100\n",
      "1313/1313 [==============================] - 6s 5ms/step - loss: 0.0307 - accuracy: 0.9910\n",
      "Epoch 29/100\n",
      "1313/1313 [==============================] - 6s 5ms/step - loss: 0.0304 - accuracy: 0.9905\n",
      "Epoch 30/100\n",
      "1313/1313 [==============================] - 6s 5ms/step - loss: 0.0296 - accuracy: 0.9908\n",
      "Epoch 31/100\n",
      "1313/1313 [==============================] - 6s 5ms/step - loss: 0.0289 - accuracy: 0.9912\n",
      "Epoch 32/100\n",
      "1313/1313 [==============================] - 6s 5ms/step - loss: 0.0293 - accuracy: 0.9905\n",
      "Epoch 33/100\n",
      "1313/1313 [==============================] - 6s 5ms/step - loss: 0.0268 - accuracy: 0.9912\n",
      "Epoch 34/100\n",
      "1313/1313 [==============================] - 6s 5ms/step - loss: 0.0283 - accuracy: 0.9911\n",
      "Epoch 35/100\n",
      "1313/1313 [==============================] - 6s 5ms/step - loss: 0.0268 - accuracy: 0.9914\n",
      "Epoch 36/100\n",
      "1313/1313 [==============================] - 6s 5ms/step - loss: 0.0273 - accuracy: 0.9920\n",
      "Epoch 37/100\n",
      "1313/1313 [==============================] - 6s 5ms/step - loss: 0.0266 - accuracy: 0.9921\n",
      "Epoch 38/100\n",
      "1313/1313 [==============================] - 6s 5ms/step - loss: 0.0254 - accuracy: 0.9919\n",
      "Epoch 39/100\n",
      "1313/1313 [==============================] - 6s 5ms/step - loss: 0.0271 - accuracy: 0.9919\n",
      "Epoch 40/100\n",
      "1313/1313 [==============================] - 6s 5ms/step - loss: 0.0260 - accuracy: 0.9924\n",
      "Epoch 41/100\n",
      "1313/1313 [==============================] - 6s 5ms/step - loss: 0.0263 - accuracy: 0.9915\n",
      "Epoch 42/100\n",
      "1313/1313 [==============================] - 6s 5ms/step - loss: 0.0254 - accuracy: 0.9923\n",
      "Epoch 43/100\n",
      "1313/1313 [==============================] - 6s 5ms/step - loss: 0.0264 - accuracy: 0.9918\n",
      "Epoch 44/100\n",
      "1313/1313 [==============================] - 6s 5ms/step - loss: 0.0259 - accuracy: 0.9919\n",
      "Epoch 45/100\n",
      "1313/1313 [==============================] - 6s 5ms/step - loss: 0.0248 - accuracy: 0.9924\n",
      "Epoch 46/100\n",
      "1313/1313 [==============================] - 6s 5ms/step - loss: 0.0255 - accuracy: 0.9919\n",
      "Epoch 47/100\n",
      "1313/1313 [==============================] - 6s 5ms/step - loss: 0.0246 - accuracy: 0.9927\n",
      "Epoch 48/100\n",
      "1313/1313 [==============================] - 6s 5ms/step - loss: 0.0234 - accuracy: 0.9924\n",
      "Epoch 49/100\n",
      "1313/1313 [==============================] - 6s 5ms/step - loss: 0.0237 - accuracy: 0.9923\n",
      "Epoch 50/100\n",
      "1313/1313 [==============================] - 6s 5ms/step - loss: 0.0244 - accuracy: 0.9930\n",
      "Epoch 51/100\n",
      "1313/1313 [==============================] - 6s 5ms/step - loss: 0.0236 - accuracy: 0.9925\n",
      "Epoch 52/100\n",
      "1313/1313 [==============================] - 6s 5ms/step - loss: 0.0238 - accuracy: 0.9925\n",
      "Epoch 53/100\n",
      "1313/1313 [==============================] - 6s 5ms/step - loss: 0.0246 - accuracy: 0.9925\n",
      "Epoch 54/100\n",
      "1313/1313 [==============================] - 6s 5ms/step - loss: 0.0260 - accuracy: 0.9928\n",
      "Epoch 55/100\n",
      "1313/1313 [==============================] - 6s 5ms/step - loss: 0.0245 - accuracy: 0.9926\n",
      "Epoch 56/100\n",
      "1313/1313 [==============================] - 6s 5ms/step - loss: 0.0246 - accuracy: 0.9922\n",
      "Epoch 57/100\n",
      "1313/1313 [==============================] - 6s 5ms/step - loss: 0.0229 - accuracy: 0.9930\n",
      "Epoch 58/100\n",
      "1313/1313 [==============================] - 6s 5ms/step - loss: 0.0246 - accuracy: 0.9925\n",
      "Epoch 59/100\n",
      "1313/1313 [==============================] - 6s 5ms/step - loss: 0.0239 - accuracy: 0.9927\n",
      "Epoch 60/100\n",
      "1313/1313 [==============================] - 6s 5ms/step - loss: 0.0249 - accuracy: 0.9929\n",
      "Epoch 61/100\n",
      "1313/1313 [==============================] - 6s 5ms/step - loss: 0.0218 - accuracy: 0.9934\n",
      "Epoch 62/100\n",
      "1313/1313 [==============================] - 6s 5ms/step - loss: 0.0242 - accuracy: 0.9929\n",
      "Epoch 63/100\n",
      "1313/1313 [==============================] - 7s 5ms/step - loss: 0.0243 - accuracy: 0.9924\n",
      "Epoch 64/100\n",
      "1313/1313 [==============================] - 6s 5ms/step - loss: 0.0240 - accuracy: 0.9928\n",
      "Epoch 65/100\n",
      "1313/1313 [==============================] - 6s 5ms/step - loss: 0.0234 - accuracy: 0.9928\n",
      "Epoch 66/100\n",
      "1313/1313 [==============================] - 6s 5ms/step - loss: 0.0241 - accuracy: 0.9925\n",
      "Epoch 67/100\n",
      "1313/1313 [==============================] - 6s 5ms/step - loss: 0.0233 - accuracy: 0.9927\n",
      "Epoch 68/100\n",
      "1313/1313 [==============================] - 6s 5ms/step - loss: 0.0240 - accuracy: 0.9922\n",
      "Epoch 69/100\n",
      "1313/1313 [==============================] - 6s 5ms/step - loss: 0.0245 - accuracy: 0.9926\n",
      "Epoch 70/100\n",
      "1313/1313 [==============================] - 6s 5ms/step - loss: 0.0230 - accuracy: 0.9926\n",
      "Epoch 71/100\n",
      "1313/1313 [==============================] - 6s 5ms/step - loss: 0.0224 - accuracy: 0.9932\n",
      "Epoch 72/100\n",
      "1313/1313 [==============================] - 6s 5ms/step - loss: 0.0217 - accuracy: 0.9938\n",
      "Epoch 73/100\n",
      "1313/1313 [==============================] - 6s 5ms/step - loss: 0.0226 - accuracy: 0.9931\n",
      "Epoch 74/100\n",
      "1313/1313 [==============================] - 6s 5ms/step - loss: 0.0225 - accuracy: 0.9935\n",
      "Epoch 75/100\n",
      "1313/1313 [==============================] - 6s 5ms/step - loss: 0.0221 - accuracy: 0.9936\n",
      "Epoch 76/100\n",
      "1313/1313 [==============================] - 6s 5ms/step - loss: 0.0220 - accuracy: 0.9936\n",
      "Epoch 77/100\n",
      "1313/1313 [==============================] - 6s 5ms/step - loss: 0.0225 - accuracy: 0.9928\n",
      "Epoch 78/100\n",
      "1313/1313 [==============================] - 6s 5ms/step - loss: 0.0220 - accuracy: 0.9934\n",
      "Epoch 79/100\n",
      "1313/1313 [==============================] - 6s 5ms/step - loss: 0.0218 - accuracy: 0.9936\n",
      "Epoch 80/100\n",
      "1313/1313 [==============================] - 6s 5ms/step - loss: 0.0240 - accuracy: 0.9929\n",
      "Epoch 81/100\n",
      "1313/1313 [==============================] - 6s 5ms/step - loss: 0.0223 - accuracy: 0.9930\n",
      "Epoch 82/100\n",
      "1313/1313 [==============================] - 6s 5ms/step - loss: 0.0219 - accuracy: 0.9934\n",
      "Epoch 83/100\n",
      "1313/1313 [==============================] - 6s 5ms/step - loss: 0.0216 - accuracy: 0.9934\n",
      "Epoch 84/100\n",
      "1313/1313 [==============================] - 6s 5ms/step - loss: 0.0220 - accuracy: 0.9932\n",
      "Epoch 85/100\n",
      "1313/1313 [==============================] - 6s 5ms/step - loss: 0.0215 - accuracy: 0.9935\n",
      "Epoch 86/100\n",
      "1313/1313 [==============================] - 6s 5ms/step - loss: 0.0231 - accuracy: 0.9927\n",
      "Epoch 87/100\n",
      "1313/1313 [==============================] - 6s 5ms/step - loss: 0.0224 - accuracy: 0.9930\n",
      "Epoch 88/100\n",
      "1313/1313 [==============================] - 6s 5ms/step - loss: 0.0215 - accuracy: 0.9933\n",
      "Epoch 89/100\n",
      "1313/1313 [==============================] - 6s 5ms/step - loss: 0.0206 - accuracy: 0.9935\n",
      "Epoch 90/100\n",
      "1313/1313 [==============================] - 6s 5ms/step - loss: 0.0211 - accuracy: 0.9932\n",
      "Epoch 91/100\n",
      "1313/1313 [==============================] - 6s 5ms/step - loss: 0.0222 - accuracy: 0.9933\n",
      "Epoch 92/100\n",
      "1313/1313 [==============================] - 6s 5ms/step - loss: 0.0215 - accuracy: 0.9934\n",
      "Epoch 93/100\n",
      "1313/1313 [==============================] - 6s 5ms/step - loss: 0.0202 - accuracy: 0.9938\n",
      "Epoch 94/100\n",
      "1313/1313 [==============================] - 6s 5ms/step - loss: 0.0211 - accuracy: 0.9935\n",
      "Epoch 95/100\n",
      "1313/1313 [==============================] - 6s 5ms/step - loss: 0.0222 - accuracy: 0.9932\n",
      "Epoch 96/100\n",
      "1313/1313 [==============================] - 6s 5ms/step - loss: 0.0197 - accuracy: 0.9939\n",
      "Epoch 97/100\n",
      "1313/1313 [==============================] - 6s 5ms/step - loss: 0.0212 - accuracy: 0.9936\n",
      "Epoch 98/100\n",
      "1313/1313 [==============================] - 6s 5ms/step - loss: 0.0230 - accuracy: 0.9936\n",
      "Epoch 99/100\n",
      "1313/1313 [==============================] - 6s 5ms/step - loss: 0.0215 - accuracy: 0.9937\n",
      "Epoch 100/100\n",
      "1313/1313 [==============================] - 6s 5ms/step - loss: 0.0220 - accuracy: 0.9936\n"
     ]
    }
   ],
   "source": [
    "training = model.fit(xTrain, yTrain0HE, batch_size=batch_size, epochs=epoch, verbose=1, callbacks=[lrScheduler])\n",
    "model.save(\"CNN_model.h5\")"
   ]
  },
  {
   "cell_type": "markdown",
   "metadata": {
    "id": "po0KvZYRAPVl"
   },
   "source": [
    "# **Predicting the test data**"
   ]
  },
  {
   "cell_type": "code",
   "execution_count": 9,
   "metadata": {
    "colab": {
     "base_uri": "https://localhost:8080/"
    },
    "executionInfo": {
     "elapsed": 623418,
     "status": "ok",
     "timestamp": 1607803254649,
     "user": {
      "displayName": "Sadman Sakib",
      "photoUrl": "",
      "userId": "05491288056867041174"
     },
     "user_tz": 300
    },
    "id": "ydHDR_qDAU8i",
    "outputId": "19c1749b-dc92-4ba3-be90-fd5f7aeab1fc"
   },
   "outputs": [
    {
     "data": {
      "text/plain": [
       "array([[2.2720185e-05, 1.3097300e-08, 9.9996006e-01, ..., 1.5325819e-05,\n",
       "        1.0852547e-06, 9.5323202e-08],\n",
       "       [9.9997699e-01, 2.8585472e-08, 6.7112023e-07, ..., 2.6122524e-07,\n",
       "        7.4554627e-08, 3.8853036e-06],\n",
       "       [1.7609118e-08, 1.9374777e-10, 3.2036510e-08, ..., 1.4965345e-06,\n",
       "        1.7252258e-05, 9.9991977e-01],\n",
       "       ...,\n",
       "       [1.0932775e-14, 1.0603851e-10, 1.1699335e-09, ..., 7.8496498e-10,\n",
       "        2.0567142e-10, 2.8900832e-10],\n",
       "       [4.4025974e-08, 3.4830364e-10, 6.8776771e-09, ..., 8.6853237e-07,\n",
       "        3.4330802e-07, 9.9996567e-01],\n",
       "       [2.0696236e-06, 4.3159285e-09, 9.9999487e-01, ..., 9.1761956e-07,\n",
       "        6.2790701e-07, 5.4659379e-09]], dtype=float32)"
      ]
     },
     "execution_count": 9,
     "metadata": {
      "tags": []
     },
     "output_type": "execute_result"
    }
   ],
   "source": [
    "yPredictProb = model.predict(xTest)\n",
    "yPredictProb"
   ]
  },
  {
   "cell_type": "markdown",
   "metadata": {
    "id": "03ZOSqNW9FWO"
   },
   "source": [
    "# **Saving the predictions!**"
   ]
  },
  {
   "cell_type": "code",
   "execution_count": 10,
   "metadata": {
    "colab": {
     "base_uri": "https://localhost:8080/",
     "height": 206
    },
    "executionInfo": {
     "elapsed": 623416,
     "status": "ok",
     "timestamp": 1607803254651,
     "user": {
      "displayName": "Sadman Sakib",
      "photoUrl": "",
      "userId": "05491288056867041174"
     },
     "user_tz": 300
    },
    "id": "R0wikniA9EZ8",
    "outputId": "fc908398-9ff6-4d2e-96d8-7e32191cad81"
   },
   "outputs": [
    {
     "data": {
      "text/html": [
       "<div>\n",
       "<style scoped>\n",
       "    .dataframe tbody tr th:only-of-type {\n",
       "        vertical-align: middle;\n",
       "    }\n",
       "\n",
       "    .dataframe tbody tr th {\n",
       "        vertical-align: top;\n",
       "    }\n",
       "\n",
       "    .dataframe thead th {\n",
       "        text-align: right;\n",
       "    }\n",
       "</style>\n",
       "<table border=\"1\" class=\"dataframe\">\n",
       "  <thead>\n",
       "    <tr style=\"text-align: right;\">\n",
       "      <th></th>\n",
       "      <th>ImageId</th>\n",
       "      <th>Label</th>\n",
       "    </tr>\n",
       "  </thead>\n",
       "  <tbody>\n",
       "    <tr>\n",
       "      <th>0</th>\n",
       "      <td>1</td>\n",
       "      <td>2</td>\n",
       "    </tr>\n",
       "    <tr>\n",
       "      <th>1</th>\n",
       "      <td>2</td>\n",
       "      <td>0</td>\n",
       "    </tr>\n",
       "    <tr>\n",
       "      <th>2</th>\n",
       "      <td>3</td>\n",
       "      <td>9</td>\n",
       "    </tr>\n",
       "    <tr>\n",
       "      <th>3</th>\n",
       "      <td>4</td>\n",
       "      <td>9</td>\n",
       "    </tr>\n",
       "    <tr>\n",
       "      <th>4</th>\n",
       "      <td>5</td>\n",
       "      <td>3</td>\n",
       "    </tr>\n",
       "  </tbody>\n",
       "</table>\n",
       "</div>"
      ],
      "text/plain": [
       "   ImageId  Label\n",
       "0        1      2\n",
       "1        2      0\n",
       "2        3      9\n",
       "3        4      9\n",
       "4        5      3"
      ]
     },
     "execution_count": 10,
     "metadata": {
      "tags": []
     },
     "output_type": "execute_result"
    }
   ],
   "source": [
    "yPred = np.argmax(np.round(yPredictProb),axis=1) #Select the class with maximum probability\n",
    "predictionDF = pd.DataFrame({'ImageId': np.arange(1,len(yPred)+1,1), 'Label': yPred})\n",
    "\n",
    "predictionDF.to_csv(\"result/submissionDL.csv\",index=False)\n",
    "predictionDF.head()"
   ]
  }
 ],
 "metadata": {
  "accelerator": "GPU",
  "colab": {
   "authorship_tag": "ABX9TyO5j/H8MIgxtDEN8dtmpOP9",
   "collapsed_sections": [],
   "name": "digitRecoDL_kaggle.ipynb",
   "provenance": []
  },
  "kernelspec": {
   "display_name": "Python 3",
   "language": "python",
   "name": "python3"
  },
  "language_info": {
   "codemirror_mode": {
    "name": "ipython",
    "version": 3
   },
   "file_extension": ".py",
   "mimetype": "text/x-python",
   "name": "python",
   "nbconvert_exporter": "python",
   "pygments_lexer": "ipython3",
   "version": "3.7.4"
  }
 },
 "nbformat": 4,
 "nbformat_minor": 1
}
